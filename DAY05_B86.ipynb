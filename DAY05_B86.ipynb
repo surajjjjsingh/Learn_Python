{
 "cells": [
  {
   "cell_type": "code",
   "execution_count": null,
   "id": "04a06458",
   "metadata": {},
   "outputs": [],
   "source": [
    "continuation with list datatype :"
   ]
  },
  {
   "cell_type": "code",
   "execution_count": null,
   "id": "5071d91c",
   "metadata": {},
   "outputs": [],
   "source": [
    "organising the list datatype :"
   ]
  },
  {
   "cell_type": "code",
   "execution_count": 1,
   "id": "e45ef8a4",
   "metadata": {},
   "outputs": [],
   "source": [
    "cars =['mariti','kia','benz','suzuki','audi','toyota','bmw']"
   ]
  },
  {
   "cell_type": "code",
   "execution_count": 2,
   "id": "997e9e4b",
   "metadata": {},
   "outputs": [
    {
     "name": "stdout",
     "output_type": "stream",
     "text": [
      "['mariti', 'kia', 'benz', 'suzuki', 'audi', 'toyota', 'bmw']\n"
     ]
    }
   ],
   "source": [
    "print(cars)"
   ]
  },
  {
   "cell_type": "code",
   "execution_count": 3,
   "id": "04349e08",
   "metadata": {},
   "outputs": [
    {
     "data": {
      "text/plain": [
       "list"
      ]
     },
     "execution_count": 3,
     "metadata": {},
     "output_type": "execute_result"
    }
   ],
   "source": [
    "type(cars)"
   ]
  },
  {
   "cell_type": "code",
   "execution_count": null,
   "id": "6b224dc4",
   "metadata": {},
   "outputs": [],
   "source": [
    "# req : i want to organise the list in the alphbetical order.....A - Z"
   ]
  },
  {
   "cell_type": "code",
   "execution_count": null,
   "id": "da9feb7a",
   "metadata": {},
   "outputs": [],
   "source": [
    "There are two approaches :\n",
    "    1. temp approach =====>Sorted ==>we will be having the original order of the list created.\n",
    "    2.permanent approach====>changes are implied permanently."
   ]
  },
  {
   "cell_type": "code",
   "execution_count": 4,
   "id": "32a71849",
   "metadata": {},
   "outputs": [
    {
     "name": "stdout",
     "output_type": "stream",
     "text": [
      "['audi', 'benz', 'bmw', 'kia', 'mariti', 'suzuki', 'toyota']\n"
     ]
    }
   ],
   "source": [
    "print(sorted(cars))"
   ]
  },
  {
   "cell_type": "code",
   "execution_count": null,
   "id": "82b51bb5",
   "metadata": {},
   "outputs": [],
   "source": [
    "# Audi, Benz, BMW...."
   ]
  },
  {
   "cell_type": "code",
   "execution_count": 5,
   "id": "dc0d6572",
   "metadata": {},
   "outputs": [
    {
     "name": "stdout",
     "output_type": "stream",
     "text": [
      "['mariti', 'kia', 'benz', 'suzuki', 'audi', 'toyota', 'bmw']\n"
     ]
    }
   ],
   "source": [
    "print(cars)  # original order..."
   ]
  },
  {
   "cell_type": "code",
   "execution_count": 6,
   "id": "8fad3153",
   "metadata": {},
   "outputs": [],
   "source": [
    "cars.sort()"
   ]
  },
  {
   "cell_type": "code",
   "execution_count": 7,
   "id": "c735eba4",
   "metadata": {},
   "outputs": [
    {
     "name": "stdout",
     "output_type": "stream",
     "text": [
      "['audi', 'benz', 'bmw', 'kia', 'mariti', 'suzuki', 'toyota']\n"
     ]
    }
   ],
   "source": [
    "print(cars)   #A-Z"
   ]
  },
  {
   "cell_type": "code",
   "execution_count": null,
   "id": "5ec5ac5b",
   "metadata": {},
   "outputs": [],
   "source": [
    "benz and bmw ====>b,b e, m"
   ]
  },
  {
   "cell_type": "code",
   "execution_count": null,
   "id": "d4a8bedc",
   "metadata": {},
   "outputs": [],
   "source": [
    "Interview_question :what is the diff btw sorted and sort methods in list ...?"
   ]
  },
  {
   "cell_type": "code",
   "execution_count": null,
   "id": "840797c6",
   "metadata": {},
   "outputs": [],
   "source": [
    "# i want to print the list in the reverse order===>A - Z ======>Z---> A"
   ]
  },
  {
   "cell_type": "code",
   "execution_count": 8,
   "id": "7e23624f",
   "metadata": {},
   "outputs": [],
   "source": [
    "cars.reverse()"
   ]
  },
  {
   "cell_type": "code",
   "execution_count": 9,
   "id": "2e37df11",
   "metadata": {},
   "outputs": [
    {
     "name": "stdout",
     "output_type": "stream",
     "text": [
      "['toyota', 'suzuki', 'mariti', 'kia', 'bmw', 'benz', 'audi']\n"
     ]
    }
   ],
   "source": [
    "print(cars)  # T, S ,M, K , B ,b, A"
   ]
  },
  {
   "cell_type": "code",
   "execution_count": null,
   "id": "040f0944",
   "metadata": {},
   "outputs": [],
   "source": [
    "#i want to know the total count of elements"
   ]
  },
  {
   "cell_type": "code",
   "execution_count": 10,
   "id": "d51a5d78",
   "metadata": {},
   "outputs": [
    {
     "name": "stdout",
     "output_type": "stream",
     "text": [
      "['toyota', 'suzuki', 'mariti', 'kia', 'bmw', 'benz', 'audi']\n"
     ]
    }
   ],
   "source": [
    "print(cars)"
   ]
  },
  {
   "cell_type": "code",
   "execution_count": 11,
   "id": "3f127f1e",
   "metadata": {},
   "outputs": [
    {
     "data": {
      "text/plain": [
       "7"
      ]
     },
     "execution_count": 11,
     "metadata": {},
     "output_type": "execute_result"
    }
   ],
   "source": [
    "len(cars)"
   ]
  },
  {
   "cell_type": "code",
   "execution_count": null,
   "id": "4d2d7346",
   "metadata": {},
   "outputs": [],
   "source": []
  },
  {
   "cell_type": "code",
   "execution_count": null,
   "id": "f2671934",
   "metadata": {},
   "outputs": [],
   "source": [
    "introduction to slicing :"
   ]
  },
  {
   "cell_type": "code",
   "execution_count": null,
   "id": "f381ea6a",
   "metadata": {},
   "outputs": [],
   "source": [
    "#general syntax of slicing :\n",
    "(star_value:stop_count)\n",
    "\n",
    "Note : stop_value will be always excusilve, to include we have to increament the index the by +1"
   ]
  },
  {
   "cell_type": "code",
   "execution_count": null,
   "id": "ae955406",
   "metadata": {},
   "outputs": [],
   "source": []
  },
  {
   "cell_type": "code",
   "execution_count": 12,
   "id": "c5a6e361",
   "metadata": {},
   "outputs": [],
   "source": [
    "students =['diksha','sonam','navven','pradeep','abdul','nahid','afsha','mushkan']"
   ]
  },
  {
   "cell_type": "code",
   "execution_count": 13,
   "id": "462d794c",
   "metadata": {},
   "outputs": [
    {
     "name": "stdout",
     "output_type": "stream",
     "text": [
      "['diksha', 'sonam', 'navven', 'pradeep', 'abdul', 'nahid', 'afsha', 'mushkan']\n"
     ]
    }
   ],
   "source": [
    "print(students)"
   ]
  },
  {
   "cell_type": "code",
   "execution_count": 14,
   "id": "958c3ef0",
   "metadata": {},
   "outputs": [
    {
     "name": "stdout",
     "output_type": "stream",
     "text": [
      "['diksha']\n"
     ]
    }
   ],
   "source": [
    "print(students[0:1])"
   ]
  },
  {
   "cell_type": "code",
   "execution_count": 15,
   "id": "cfe9d8a0",
   "metadata": {},
   "outputs": [
    {
     "name": "stdout",
     "output_type": "stream",
     "text": [
      "['diksha', 'sonam']\n"
     ]
    }
   ],
   "source": [
    "print(students[0:2])"
   ]
  },
  {
   "cell_type": "code",
   "execution_count": 16,
   "id": "1929d97e",
   "metadata": {},
   "outputs": [
    {
     "name": "stdout",
     "output_type": "stream",
     "text": [
      "['diksha', 'sonam', 'navven', 'pradeep', 'abdul']\n"
     ]
    }
   ],
   "source": [
    "print(students[0:5])"
   ]
  },
  {
   "cell_type": "code",
   "execution_count": 17,
   "id": "172736ab",
   "metadata": {},
   "outputs": [
    {
     "name": "stdout",
     "output_type": "stream",
     "text": [
      "['navven', 'pradeep']\n"
     ]
    }
   ],
   "source": [
    "print(students[2:4])"
   ]
  },
  {
   "cell_type": "code",
   "execution_count": null,
   "id": "921c1bcb",
   "metadata": {},
   "outputs": [],
   "source": [
    "# i want to print only diksha,naveen, abdul, afsha"
   ]
  },
  {
   "cell_type": "code",
   "execution_count": 18,
   "id": "e350f1ab",
   "metadata": {},
   "outputs": [
    {
     "name": "stdout",
     "output_type": "stream",
     "text": [
      "['diksha', 'navven', 'abdul', 'afsha']\n"
     ]
    }
   ],
   "source": [
    "print(students[0:9:2])"
   ]
  },
  {
   "cell_type": "code",
   "execution_count": 19,
   "id": "51d4181b",
   "metadata": {},
   "outputs": [
    {
     "name": "stdout",
     "output_type": "stream",
     "text": [
      "['diksha', 'pradeep', 'afsha']\n"
     ]
    }
   ],
   "source": [
    "print(students[0:9:3])"
   ]
  },
  {
   "cell_type": "code",
   "execution_count": null,
   "id": "ff6be88b",
   "metadata": {},
   "outputs": [],
   "source": []
  }
 ],
 "metadata": {
  "kernelspec": {
   "display_name": "Python 3 (ipykernel)",
   "language": "python",
   "name": "python3"
  },
  "language_info": {
   "codemirror_mode": {
    "name": "ipython",
    "version": 3
   },
   "file_extension": ".py",
   "mimetype": "text/x-python",
   "name": "python",
   "nbconvert_exporter": "python",
   "pygments_lexer": "ipython3",
   "version": "3.11.7"
  }
 },
 "nbformat": 4,
 "nbformat_minor": 5
}
