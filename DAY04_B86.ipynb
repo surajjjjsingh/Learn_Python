{
 "cells": [
  {
   "cell_type": "code",
   "execution_count": null,
   "id": "2751d076",
   "metadata": {},
   "outputs": [],
   "source": [
    "Introduction to list datatype :"
   ]
  },
  {
   "cell_type": "code",
   "execution_count": null,
   "id": "780425bc",
   "metadata": {},
   "outputs": [],
   "source": [
    "Defination :Alist is collection of items declared in a particular order.\n",
    "    \n",
    "classfication :it is classified as a mutable datatype\n",
    "    \n",
    "how  to define / declare the list datatype........[ ]"
   ]
  },
  {
   "cell_type": "code",
   "execution_count": null,
   "id": "728acec9",
   "metadata": {},
   "outputs": [],
   "source": []
  },
  {
   "cell_type": "code",
   "execution_count": 6,
   "id": "b9e2588e",
   "metadata": {},
   "outputs": [],
   "source": [
    "students = ['afsha','pardeep','naveen','prakash','muskan','abdul']"
   ]
  },
  {
   "cell_type": "code",
   "execution_count": 7,
   "id": "0fd1fbf8",
   "metadata": {},
   "outputs": [
    {
     "name": "stdout",
     "output_type": "stream",
     "text": [
      "['afsha', 'pardeep', 'naveen', 'prakash', 'muskan', 'abdul']\n"
     ]
    }
   ],
   "source": [
    "print(students)"
   ]
  },
  {
   "cell_type": "code",
   "execution_count": 8,
   "id": "e31af448",
   "metadata": {},
   "outputs": [
    {
     "data": {
      "text/plain": [
       "list"
      ]
     },
     "execution_count": 8,
     "metadata": {},
     "output_type": "execute_result"
    }
   ],
   "source": [
    "type(students)"
   ]
  },
  {
   "cell_type": "code",
   "execution_count": null,
   "id": "ec109c95",
   "metadata": {},
   "outputs": [],
   "source": [
    "intoduction to indexing : indexing will be starting from the value of 0 onwards."
   ]
  },
  {
   "cell_type": "code",
   "execution_count": null,
   "id": "5e2732b4",
   "metadata": {},
   "outputs": [],
   "source": [
    "#req : i want to get pradeep name in the output.........?"
   ]
  },
  {
   "cell_type": "code",
   "execution_count": 10,
   "id": "273f7bc3",
   "metadata": {},
   "outputs": [
    {
     "name": "stdout",
     "output_type": "stream",
     "text": [
      "pardeep\n"
     ]
    }
   ],
   "source": [
    "print(students[1])"
   ]
  },
  {
   "cell_type": "code",
   "execution_count": 11,
   "id": "c0bb367d",
   "metadata": {},
   "outputs": [
    {
     "name": "stdout",
     "output_type": "stream",
     "text": [
      "Pardeep\n"
     ]
    }
   ],
   "source": [
    "print(students[1].title())"
   ]
  },
  {
   "cell_type": "code",
   "execution_count": null,
   "id": "06024d87",
   "metadata": {},
   "outputs": [],
   "source": [
    "#req : i want to get Prakash name in the output.........?"
   ]
  },
  {
   "cell_type": "code",
   "execution_count": 12,
   "id": "88beee5d",
   "metadata": {
    "scrolled": true
   },
   "outputs": [
    {
     "name": "stdout",
     "output_type": "stream",
     "text": [
      "Prakash\n"
     ]
    }
   ],
   "source": [
    "print(students[3].title())"
   ]
  },
  {
   "cell_type": "code",
   "execution_count": null,
   "id": "00df7cc7",
   "metadata": {},
   "outputs": [],
   "source": [
    "1. how to add new elements to the list \n",
    "\n",
    "2.how to modify the elements to the list\n",
    "\n",
    "3.how to delete the elements to the list"
   ]
  },
  {
   "cell_type": "code",
   "execution_count": null,
   "id": "b9b8ee58",
   "metadata": {},
   "outputs": [],
   "source": [
    "#req : i want to add suraj to the list.........?"
   ]
  },
  {
   "cell_type": "code",
   "execution_count": 13,
   "id": "4ebc85d7",
   "metadata": {},
   "outputs": [],
   "source": [
    "students.append('suraj')"
   ]
  },
  {
   "cell_type": "code",
   "execution_count": 14,
   "id": "bb1de5fa",
   "metadata": {},
   "outputs": [
    {
     "name": "stdout",
     "output_type": "stream",
     "text": [
      "['afsha', 'pardeep', 'naveen', 'prakash', 'muskan', 'abdul', 'suraj']\n"
     ]
    }
   ],
   "source": [
    "print(students)"
   ]
  },
  {
   "cell_type": "code",
   "execution_count": null,
   "id": "8014a58f",
   "metadata": {},
   "outputs": [],
   "source": [
    "#req : i want to add santosh to the above list.........?"
   ]
  },
  {
   "cell_type": "code",
   "execution_count": 15,
   "id": "43236a88",
   "metadata": {},
   "outputs": [],
   "source": [
    "students.append('santosh')"
   ]
  },
  {
   "cell_type": "code",
   "execution_count": 16,
   "id": "72f533f9",
   "metadata": {},
   "outputs": [
    {
     "name": "stdout",
     "output_type": "stream",
     "text": [
      "['afsha', 'pardeep', 'naveen', 'prakash', 'muskan', 'abdul', 'suraj', 'santosh']\n"
     ]
    }
   ],
   "source": [
    "print(students)"
   ]
  },
  {
   "cell_type": "code",
   "execution_count": null,
   "id": "6089754a",
   "metadata": {},
   "outputs": [],
   "source": [
    "#req : i want to add afreen to the list...... in the 2nd position"
   ]
  },
  {
   "cell_type": "code",
   "execution_count": 17,
   "id": "502d4ff7",
   "metadata": {},
   "outputs": [],
   "source": [
    "students.insert(2,'afreen')"
   ]
  },
  {
   "cell_type": "code",
   "execution_count": 18,
   "id": "55385e70",
   "metadata": {},
   "outputs": [
    {
     "name": "stdout",
     "output_type": "stream",
     "text": [
      "['afsha', 'pardeep', 'afreen', 'naveen', 'prakash', 'muskan', 'abdul', 'suraj', 'santosh']\n"
     ]
    }
   ],
   "source": [
    "print(students)"
   ]
  },
  {
   "cell_type": "code",
   "execution_count": 19,
   "id": "40c978f3",
   "metadata": {},
   "outputs": [
    {
     "name": "stdout",
     "output_type": "stream",
     "text": [
      "afreen\n"
     ]
    }
   ],
   "source": [
    "print(students[2])"
   ]
  },
  {
   "cell_type": "code",
   "execution_count": null,
   "id": "bb7186d9",
   "metadata": {},
   "outputs": [],
   "source": [
    "interview_question : what is the diff btw append and insert method in a list,can you pls explain?"
   ]
  },
  {
   "cell_type": "code",
   "execution_count": null,
   "id": "befc3124",
   "metadata": {},
   "outputs": [],
   "source": [
    "# req : i want modify afsha name to anshika "
   ]
  },
  {
   "cell_type": "code",
   "execution_count": 21,
   "id": "fb3baac0",
   "metadata": {},
   "outputs": [],
   "source": [
    "students[0] = 'anshika'"
   ]
  },
  {
   "cell_type": "code",
   "execution_count": 22,
   "id": "1e8fad36",
   "metadata": {},
   "outputs": [
    {
     "name": "stdout",
     "output_type": "stream",
     "text": [
      "['anshika', 'pardeep', 'afreen', 'naveen', 'prakash', 'muskan', 'abdul', 'suraj', 'santosh']\n"
     ]
    }
   ],
   "source": [
    "print(students)"
   ]
  },
  {
   "cell_type": "code",
   "execution_count": null,
   "id": "330bd608",
   "metadata": {},
   "outputs": [],
   "source": [
    "# req : i want to delete naveen  from the above list....?"
   ]
  },
  {
   "cell_type": "code",
   "execution_count": 23,
   "id": "3c3ec813",
   "metadata": {},
   "outputs": [],
   "source": [
    "del students[3]   #it will do parmenant delete."
   ]
  },
  {
   "cell_type": "code",
   "execution_count": 24,
   "id": "547de4db",
   "metadata": {},
   "outputs": [
    {
     "name": "stdout",
     "output_type": "stream",
     "text": [
      "['anshika', 'pardeep', 'afreen', 'prakash', 'muskan', 'abdul', 'suraj', 'santosh']\n"
     ]
    }
   ],
   "source": [
    "print(students)"
   ]
  },
  {
   "cell_type": "code",
   "execution_count": null,
   "id": "e6517e3c",
   "metadata": {},
   "outputs": [],
   "source": []
  },
  {
   "cell_type": "code",
   "execution_count": null,
   "id": "999d51b6",
   "metadata": {},
   "outputs": [],
   "source": [
    "# temp deleting the elements using pop method :\n",
    "\n",
    "pop will be by default deleting the last element in the list."
   ]
  },
  {
   "cell_type": "code",
   "execution_count": 25,
   "id": "15996374",
   "metadata": {},
   "outputs": [
    {
     "name": "stdout",
     "output_type": "stream",
     "text": [
      "['anshika', 'pardeep', 'afreen', 'prakash', 'muskan', 'abdul', 'suraj', 'santosh']\n"
     ]
    }
   ],
   "source": [
    "print(students)"
   ]
  },
  {
   "cell_type": "code",
   "execution_count": 26,
   "id": "192dcc4c",
   "metadata": {},
   "outputs": [],
   "source": [
    "x = students.pop()"
   ]
  },
  {
   "cell_type": "code",
   "execution_count": 27,
   "id": "5bc0160d",
   "metadata": {},
   "outputs": [
    {
     "name": "stdout",
     "output_type": "stream",
     "text": [
      "['anshika', 'pardeep', 'afreen', 'prakash', 'muskan', 'abdul', 'suraj']\n"
     ]
    }
   ],
   "source": [
    "print(students)"
   ]
  },
  {
   "cell_type": "code",
   "execution_count": 28,
   "id": "b0fba529",
   "metadata": {},
   "outputs": [
    {
     "name": "stdout",
     "output_type": "stream",
     "text": [
      "santosh\n"
     ]
    }
   ],
   "source": [
    "print(x)"
   ]
  },
  {
   "cell_type": "code",
   "execution_count": null,
   "id": "d7f11595",
   "metadata": {},
   "outputs": [],
   "source": [
    "interview_question: what is the diff btw delete and pop method  in a list"
   ]
  },
  {
   "cell_type": "code",
   "execution_count": null,
   "id": "214256b4",
   "metadata": {},
   "outputs": [],
   "source": [
    "# is used for commenting the code"
   ]
  }
 ],
 "metadata": {
  "kernelspec": {
   "display_name": "Python 3 (ipykernel)",
   "language": "python",
   "name": "python3"
  },
  "language_info": {
   "codemirror_mode": {
    "name": "ipython",
    "version": 3
   },
   "file_extension": ".py",
   "mimetype": "text/x-python",
   "name": "python",
   "nbconvert_exporter": "python",
   "pygments_lexer": "ipython3",
   "version": "3.11.7"
  }
 },
 "nbformat": 4,
 "nbformat_minor": 5
}
